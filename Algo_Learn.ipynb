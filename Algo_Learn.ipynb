{
 "cells": [
  {
   "cell_type": "code",
   "execution_count": 1,
   "metadata": {},
   "outputs": [],
   "source": [
    "# Load libraries\n",
    "        import pandas\n",
    "        from pandas.plotting import scatter_matrix\n",
    "        import matplotlib.pyplot as plt\n",
    "        from sklearn import model_selection\n",
    "        from sklearn.metrics import classification_report\n",
    "        from sklearn.metrics import confusion_matrix\n",
    "        from sklearn.metrics import accuracy_score\n",
    "        from sklearn.linear_model import LogisticRegression\n",
    "        from sklearn.tree import DecisionTreeClassifier\n",
    "        from sklearn.neighbors import KNeighborsClassifier\n",
    "        from sklearn.discriminant_analysis import LinearDiscriminantAnalysis\n",
    "        from sklearn.naive_bayes import GaussianNB\n",
    "        from sklearn.svm import SVC\n",
    "\n",
    "        # Load dataset\n",
    "        url = \"https://archive.ics.uci.edu/ml/machine-learning-databases/iris/iris.data\"\n",
    "        names = ['sepal-length', 'sepal-width', 'petal-length', 'petal-width', 'class']\n",
    "        dataset = pandas.read_csv(url, names=names)\n",
    "\n",
    "        print(dataset.shape)\n",
    "        print(dataset.head(5))\n",
    "        print(dataset.describe())\n",
    "        print(dataset.groupby('class').size())\n",
    "\n",
    "        #dataset.plot(kind='box', subplots=True, layout=(2, 2), sharex=False, sharey=False)\n",
    "        #plt.show()\n",
    "\n",
    "        #dataset.hist()\n",
    "        #plt.show()\n",
    "\n",
    "        # scatter plot matrix\n",
    "        scatter_matrix(dataset)\n",
    "        #plt.show()\n",
    "\n",
    "        # Split-out validation dataset\n",
    "        array = dataset.values\n",
    "        X = array[:, 0:4]\n",
    "        Y = array[:, 4]\n",
    "        validation_size = 0.20\n",
    "        seed = 7\n",
    "        X_train, X_validation, Y_train, Y_validation = model_selection.train_test_split(X, Y, test_size=validation_size,\n",
    "                                                                                    random_state=seed)"
   ]
  },
  {
   "cell_type": "code",
   "execution_count": null,
   "metadata": {
    "collapsed": true
   },
   "outputs": [],
   "source": [
    ""
   ]
  }
 ],
 "metadata": {
  "kernelspec": {
   "display_name": "Python 2",
   "language": "python",
   "name": "python2"
  },
  "language_info": {
   "codemirror_mode": {
    "name": "ipython",
    "version": 2.0
   },
   "file_extension": ".py",
   "mimetype": "text/x-python",
   "name": "python",
   "nbconvert_exporter": "python",
   "pygments_lexer": "ipython2",
   "version": "2.7.13"
  }
 },
 "nbformat": 4,
 "nbformat_minor": 0
}